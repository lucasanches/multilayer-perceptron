{
 "cells": [
  {
   "cell_type": "markdown",
   "id": "2e6eb205",
   "metadata": {},
   "source": [
    "# Referências"
   ]
  },
  {
   "cell_type": "markdown",
   "id": "0b75a9d1",
   "metadata": {},
   "source": [
    "- https://machinelearningmastery.com/building-multilayer-perceptron-models-in-pytorch/;\n",
    "- https://medium.com/@mn05052002/building-a-simple-mlp-from-scratch-using-pytorch-7d50ca66512b;\n",
    "- https://machinelearningmastery.com/implementing-gradient-descent-in-pytorch/;\n",
    "- https://www.codecademy.com/resources/docs/pytorch/optimizers/adam;\n",
    "- https://www.geeksforgeeks.org/training-neural-networks-with-validation-using-pytorch/;\n",
    "- https://medium.com/biased-algorithms/a-practical-guide-to-implementing-early-stopping-in-pytorch-for-model-training-99a7cbd46e9d;\n",
    "- https://medium.com/dejunhuang/learning-day-57-practical-5-loss-function-crossentropyloss-vs-bceloss-in-pytorch-softmax-vs-bd866c8a0d23;\n",
    "- https://saturncloud.io/blog/calculating-the-accuracy-of-pytorch-models-every-epoch/#2;\n",
    "- https://sentry.io/answers/get-the-last-element-of-a-list-in-python/;\n",
    "- https://pytorch.org/docs/stable/generated/torch.nn.ModuleList.html;"
   ]
  }
 ],
 "metadata": {
  "language_info": {
   "name": "python"
  }
 },
 "nbformat": 4,
 "nbformat_minor": 5
}
